{
 "cells": [
  {
   "cell_type": "code",
   "execution_count": 20,
   "metadata": {},
   "outputs": [
    {
     "name": "stdout",
     "output_type": "stream",
     "text": [
      "Please visit this URL to authorize this application: https://accounts.google.com/o/oauth2/auth?response_type=code&client_id=993625018949-omkq60uonaou2klikkjtvrgckrvleiol.apps.googleusercontent.com&redirect_uri=http%3A%2F%2Flocalhost%3A64132%2F&scope=https%3A%2F%2Fwww.googleapis.com%2Fauth%2Fgmail.readonly&state=SDSEUVmPZfZUAHwkJezNO5cskmenIT&access_type=offline\n"
     ]
    }
   ],
   "source": [
    "# import the required libraries \n",
    "from googleapiclient.discovery import build \n",
    "from google_auth_oauthlib.flow import InstalledAppFlow \n",
    "from google.auth.transport.requests import Request \n",
    "import pickle \n",
    "import os.path \n",
    "import base64 \n",
    "import email \n",
    "from bs4 import BeautifulSoup \n",
    "\n",
    "# Define the SCOPES. If modifying it, delete the token.pickle file. \n",
    "SCOPES = ['https://www.googleapis.com/auth/gmail.readonly'] \n",
    "\n",
    "def getEmails(): \n",
    "    # Variable creds will store the user access token. \n",
    "    # If no valid token found, we will create one. \n",
    "    creds = None\n",
    "\n",
    "    # The file token.pickle contains the user access token. \n",
    "    # Check if it exists \n",
    "    if os.path.exists('token.pickle'): \n",
    "\n",
    "        # Read the token from the file and store it in the variable creds \n",
    "        with open('token.pickle', 'rb') as token: \n",
    "            creds = pickle.load(token) \n",
    "\n",
    "    # If credentials are not available or are invalid, ask the user to log in. \n",
    "    if not creds or not creds.valid: \n",
    "        if creds and creds.expired and creds.refresh_token: \n",
    "            creds.refresh(Request()) \n",
    "        else: \n",
    "            flow = InstalledAppFlow.from_client_secrets_file('credentials.json', SCOPES) \n",
    "            creds = flow.run_local_server(port=0) \n",
    "\n",
    "        # Save the access token in token.pickle file for the next run \n",
    "        with open('token.pickle', 'wb') as token: \n",
    "            pickle.dump(creds, token) \n",
    "\n",
    "    # Connect to the Gmail API \n",
    "    service = build('gmail', 'v1', credentials=creds) \n",
    "\n",
    "    # request a list of all the messages \n",
    "    result = service.users().messages().list(userId='me').execute() \n",
    "\n",
    "    # We can also pass maxResults to get any number of emails. Like this: \n",
    "    # result = service.users().messages().list(maxResults=200, userId='me').execute() \n",
    "    messages = result.get('messages') \n",
    "\n",
    "    # messages is a list of dictionaries where each dictionary contains a message id. \n",
    "\n",
    "    # iterate through all the messages \n",
    "    for msg in messages: \n",
    "        # Get the message from its id \n",
    "        txt = service.users().messages().get(userId='me', id=msg['id']).execute() \n",
    "\n",
    "        # Use try-except to avoid any Errors \n",
    "        try: \n",
    "            # Get value of 'payload' from dictionary 'txt' \n",
    "            payload = txt['payload'] \n",
    "            headers = payload['headers'] \n",
    "\n",
    "            # Look for Subject and Sender Email in the headers \n",
    "            for d in headers: \n",
    "                if d['name'] == 'Subject': \n",
    "                    subject = d['value'] \n",
    "                if d['name'] == 'From': \n",
    "                    sender = d['value'] \n",
    "\n",
    "            # The Body of the message is in Encrypted format. So, we have to decode it. \n",
    "            # Get the data and decode it with base 64 decoder. \n",
    "            parts = payload.get('parts')[0] \n",
    "            data = parts['body']['data'] \n",
    "            data = data.replace(\"-\",\"+\").replace(\"_\",\"/\") \n",
    "            decoded_data = base64.b64decode(data) \n",
    "\n",
    "            # Now, the data obtained is in lxml. So, we will parse \n",
    "            # it with BeautifulSoup library \n",
    "            soup = BeautifulSoup(decoded_data , \"lxml\") \n",
    "            body = soup.body() \n",
    "\n",
    "            # Printing the subject, sender's email and message \n",
    "            print(\"Subject: \", subject) \n",
    "            print(\"From: \", sender) \n",
    "            print(\"Message: \", body) \n",
    "            print('\\n') \n",
    "        except: \n",
    "            pass\n",
    "\n",
    "\n",
    "getEmails()\n"
   ]
  },
  {
   "cell_type": "code",
   "execution_count": 22,
   "metadata": {},
   "outputs": [],
   "source": [
    "if os.path.exists('token.pickle'): \n",
    "\n",
    "        # Read the token from the file and store it in the variable creds \n",
    "        with open('token.pickle', 'rb') as token: \n",
    "            creds = pickle.load(token) \n"
   ]
  },
  {
   "cell_type": "code",
   "execution_count": 49,
   "metadata": {},
   "outputs": [],
   "source": [
    "service = build('gmail', 'v1', credentials=creds)"
   ]
  },
  {
   "cell_type": "code",
   "execution_count": 50,
   "metadata": {},
   "outputs": [],
   "source": [
    "result = service.users().messages().list(maxResults=10, userId='me').execute()"
   ]
  },
  {
   "cell_type": "code",
   "execution_count": 51,
   "metadata": {},
   "outputs": [
    {
     "data": {
      "text/plain": [
       "{'messages': [{'id': '176fb9835206461d', 'threadId': '176fb9835206461d'},\n",
       "  {'id': '176fb832b6bb3de3', 'threadId': '176fb832b6bb3de3'},\n",
       "  {'id': '176f205dbc18f926', 'threadId': '176f205dbc18f926'},\n",
       "  {'id': '176f1e6dc62cf4f4', 'threadId': '176f1e6dc62cf4f4'},\n",
       "  {'id': '176ec926138870ae', 'threadId': '176ec926138870ae'},\n",
       "  {'id': '1762d6b7cc0b0ee9', 'threadId': '1762d6b7cc0b0ee9'},\n",
       "  {'id': '175d1229964f9026', 'threadId': '175d1229964f9026'},\n",
       "  {'id': '175d121424d0d065', 'threadId': '175d121424d0d065'},\n",
       "  {'id': '17447daaee2b5104', 'threadId': '17447daaee2b5104'},\n",
       "  {'id': '172c66b55df6503b', 'threadId': '172c66b55df6503b'}],\n",
       " 'nextPageToken': '05473480117891521722',\n",
       " 'resultSizeEstimate': 11}"
      ]
     },
     "execution_count": 51,
     "metadata": {},
     "output_type": "execute_result"
    }
   ],
   "source": [
    "result"
   ]
  },
  {
   "cell_type": "code",
   "execution_count": 52,
   "metadata": {},
   "outputs": [],
   "source": [
    "messages=result.get('messages') "
   ]
  },
  {
   "cell_type": "code",
   "execution_count": 53,
   "metadata": {},
   "outputs": [
    {
     "name": "stdout",
     "output_type": "stream",
     "text": [
      "[{'name': 'Delivered-To', 'value': 'automation2826@gmail.com'}, {'name': 'Received', 'value': 'by 2002:a5e:9517:0:0:0:0:0 with SMTP id r23csp351087ioj;        Wed, 13 Jan 2021 03:53:45 -0800 (PST)'}, {'name': 'X-Google-Smtp-Source', 'value': 'ABdhPJwvUA/glTdc7Omv8lV42erl6Ftk/54I9Oy5bj8Ygw6H8I0bexJqUqeLJYFCeJtbb0akGbqw'}, {'name': 'X-Received', 'value': 'by 2002:a5d:4f10:: with SMTP id c16mr2182201wru.398.1610538825220;        Wed, 13 Jan 2021 03:53:45 -0800 (PST)'}, {'name': 'ARC-Seal', 'value': 'i=1; a=rsa-sha256; t=1610538825; cv=none;        d=google.com; s=arc-20160816;        b=HIGnnoRnL67e01l0u859rvWsa6DmG1PzVVbm1UET8Xtg6DF2gyGW0a9B6oUr893Y5/         rBfiOtl47tNiozl0ILITAJGlGJsleudfEloQoA1vwlyyTnnKzD7h8udy2t6wZ7U82ttM         row6yXJ4Ip7dtGDZs4VnuW95GwGnhwqcF4PNjX1eYaSqi94rTwR5KPDkYgHY2yGRATn1         ChvMERjzBEacjOStt3yjtQW6tTRmAf8JzoY8zbeDKA9t9eRK/aI+vCkXfPPkyvgLT+sM         4VnTmyu/nbrbUfMn+wuTfhE/gZ2sVt3Sv4zgxaq1Ow8E1v66Nzya58iu00Y/UhyYTwGI         NkoQ=='}, {'name': 'ARC-Message-Signature', 'value': 'i=1; a=rsa-sha256; c=relaxed/relaxed; d=google.com; s=arc-20160816;        h=feedback-id:content-transfer-encoding:mime-version:subject         :message-id:to:reply-to:from:date:dkim-signature:dkim-signature;        bh=oN6j/CrpCmcqj21b5P1MUmKAawsEJ3D/iQ9YiDfKYb8=;        b=FcB6/EheAPhOKsp8eXV9q2zpng2uS/Oa1aQfhT9OWyTIQF5tCnV3/yEV5OtbOWuKZO         bXJxKbnwUye7tPSR73daWxgIE0/8aJlSX065SVBl4T8yMbrDH/m+vsCaxsVAqW6cBm2D         dlWMYHfu/yXGsbpwTBF66rRZNWx76srVkgBiVGUvx+w6ZsG2xjoCnsxFmNerq4VJNx7f         XJQlYL6j3CQfL4vwnRrKleWO2alu+VwHlKKFMT0UavcWw6mtNeFKynQUxFvE/hopL3tc         RiKGA6/jm+BFz4IbeK/jz5lX/vXAonQQHRBf0/nMXdvxIiVXBksyeYxw828Am5ARNqH3         o1Tg=='}, {'name': 'ARC-Authentication-Results', 'value': 'i=1; mx.google.com;       dkim=pass header.i=@tickertape.in header.s=5d24vhbl2fi2xqmm4f4xpit3vpqyfiol header.b=gX3j4dFw;       dkim=pass header.i=@amazonses.com header.s=shh3fegwg5fppqsuzphvschd53n6ihuv header.b=\"XTQT/v1J\";       spf=pass (google.com: domain of 01020176fb983238-ce225f8f-c8f1-44c1-885b-dc946247efb4-000000@eu-west-1.amazonses.com designates 54.240.6.47 as permitted sender) smtp.mailfrom=01020176fb983238-ce225f8f-c8f1-44c1-885b-dc946247efb4-000000@eu-west-1.amazonses.com;       dmarc=pass (p=QUARANTINE sp=QUARANTINE dis=NONE) header.from=tickertape.in'}, {'name': 'Return-Path', 'value': '<01020176fb983238-ce225f8f-c8f1-44c1-885b-dc946247efb4-000000@eu-west-1.amazonses.com>'}, {'name': 'Received', 'value': 'from a6-47.smtp-out.eu-west-1.amazonses.com (a6-47.smtp-out.eu-west-1.amazonses.com. [54.240.6.47])        by mx.google.com with ESMTPS id i5si1528774wma.20.2021.01.13.03.53.44        for <automation2826@gmail.com>        (version=TLS1_2 cipher=ECDHE-ECDSA-AES128-SHA bits=128/128);        Wed, 13 Jan 2021 03:53:45 -0800 (PST)'}, {'name': 'Received-SPF', 'value': 'pass (google.com: domain of 01020176fb983238-ce225f8f-c8f1-44c1-885b-dc946247efb4-000000@eu-west-1.amazonses.com designates 54.240.6.47 as permitted sender) client-ip=54.240.6.47;'}, {'name': 'Authentication-Results', 'value': 'mx.google.com;       dkim=pass header.i=@tickertape.in header.s=5d24vhbl2fi2xqmm4f4xpit3vpqyfiol header.b=gX3j4dFw;       dkim=pass header.i=@amazonses.com header.s=shh3fegwg5fppqsuzphvschd53n6ihuv header.b=\"XTQT/v1J\";       spf=pass (google.com: domain of 01020176fb983238-ce225f8f-c8f1-44c1-885b-dc946247efb4-000000@eu-west-1.amazonses.com designates 54.240.6.47 as permitted sender) smtp.mailfrom=01020176fb983238-ce225f8f-c8f1-44c1-885b-dc946247efb4-000000@eu-west-1.amazonses.com;       dmarc=pass (p=QUARANTINE sp=QUARANTINE dis=NONE) header.from=tickertape.in'}, {'name': 'DKIM-Signature', 'value': 'v=1; a=rsa-sha256; q=dns/txt; c=relaxed/simple; s=5d24vhbl2fi2xqmm4f4xpit3vpqyfiol; d=tickertape.in; t=1610538824; h=Date:From:Reply-To:To:Message-ID:Subject:MIME-Version:Content-Type:Content-Transfer-Encoding; bh=j39B8p4qQEwodhiXQtOxDK+eL0rxORP9BbxExYQ8+DM=; b=gX3j4dFwoD3dHglDiYpVSayxHLFZfjoknA5MnRgOMZ96KXNkygukAu/v/MuEpxIh zLx60pOVCmyiP5IXJuQa5v69EkBZH0wws9RNsPigGdwS4P/JBi60HtqGD1ZsxTmCeaM NsncHkVoADbX+bW/Sf5RZ1W2rzNTfguqescXsbUc='}, {'name': 'DKIM-Signature', 'value': 'v=1; a=rsa-sha256; q=dns/txt; c=relaxed/simple; s=shh3fegwg5fppqsuzphvschd53n6ihuv; d=amazonses.com; t=1610538824; h=Date:From:Reply-To:To:Message-ID:Subject:MIME-Version:Content-Type:Content-Transfer-Encoding:Feedback-ID; bh=j39B8p4qQEwodhiXQtOxDK+eL0rxORP9BbxExYQ8+DM=; b=XTQT/v1JTjPs+1AqRdGIAFT5fEZWg1JyA1s+nS3rLaGd+CMPP/kGUqsB5Obqczje bYB3zHT+lKW4+psYCkk3ZwV8ZCnqgf+6GuVZ9AMOf/vF+7uMBY9HngYCE9vA3V4wE+x x3Sbxw/GdzFYlfdsAv0ec5qj8APkz+anyENwMnk4='}, {'name': 'Date', 'value': 'Wed, 13 Jan 2021 11:53:44 +0000'}, {'name': 'From', 'value': 'Tickertape <notifications@tickertape.in>'}, {'name': 'Reply-To', 'value': 'support@tickertape.in'}, {'name': 'To', 'value': 'automation2826@gmail.com'}, {'name': 'Message-ID', 'value': '<01020176fb983238-ce225f8f-c8f1-44c1-885b-dc946247efb4-000000@eu-west-1.amazonses.com>'}, {'name': 'Subject', 'value': \"Welcome back Rajesh, here's your login link 🔑\"}, {'name': 'MIME-Version', 'value': '1.0'}, {'name': 'Content-Type', 'value': 'text/html; charset=UTF-8'}, {'name': 'Content-Transfer-Encoding', 'value': 'quoted-printable'}, {'name': 'X-SES-Outgoing', 'value': '2021.01.13-54.240.6.47'}, {'name': 'Feedback-ID', 'value': '1.eu-west-1.M7rZOP1IrMA/zFpPZUmSNeg7QhLAgosnyzowUOJXwpU=:AmazonSES'}]\n"
     ]
    }
   ],
   "source": [
    " for msg in messages[:1]: \n",
    "        # Get the message from its id \n",
    "    txt = service.users().messages().get(userId='me', id=msg['id']).execute()\n",
    "    \n",
    "    payload = txt['payload'] \n",
    "    headers = payload['headers']\n",
    "    print(payload['headers'])"
   ]
  },
  {
   "cell_type": "code",
   "execution_count": 54,
   "metadata": {},
   "outputs": [],
   "source": [
    "for d in headers: \n",
    "    if d['name'] == 'Subject': \n",
    "        subject = d['value'] \n",
    "    if d['name'] == 'From': \n",
    "        sender = d['value'] "
   ]
  },
  {
   "cell_type": "code",
   "execution_count": 55,
   "metadata": {},
   "outputs": [
    {
     "data": {
      "text/plain": [
       "\"Welcome back Rajesh, here's your login link 🔑\""
      ]
     },
     "execution_count": 55,
     "metadata": {},
     "output_type": "execute_result"
    }
   ],
   "source": [
    "subject"
   ]
  },
  {
   "cell_type": "code",
   "execution_count": 56,
   "metadata": {},
   "outputs": [
    {
     "data": {
      "text/plain": [
       "'Tickertape <notifications@tickertape.in>'"
      ]
     },
     "execution_count": 56,
     "metadata": {},
     "output_type": "execute_result"
    }
   ],
   "source": [
    "sender"
   ]
  },
  {
   "cell_type": "code",
   "execution_count": 70,
   "metadata": {},
   "outputs": [],
   "source": [
    "data=payload['body']['data'].replace(\"-\",\"+\").replace(\"_\",\"/\") \n",
    "decoded_data=base64.b64decode(data)"
   ]
  },
  {
   "cell_type": "code",
   "execution_count": null,
   "metadata": {},
   "outputs": [],
   "source": [
    "soup = BeautifulSoup(decoded_data , \"html.parser\") \n",
    "body = soup.body() \n",
    "body"
   ]
  },
  {
   "cell_type": "code",
   "execution_count": null,
   "metadata": {},
   "outputs": [],
   "source": []
  }
 ],
 "metadata": {
  "kernelspec": {
   "display_name": "Python 3",
   "language": "python",
   "name": "python3"
  },
  "language_info": {
   "codemirror_mode": {
    "name": "ipython",
    "version": 3
   },
   "file_extension": ".py",
   "mimetype": "text/x-python",
   "name": "python",
   "nbconvert_exporter": "python",
   "pygments_lexer": "ipython3",
   "version": "3.8.3"
  }
 },
 "nbformat": 4,
 "nbformat_minor": 4
}
